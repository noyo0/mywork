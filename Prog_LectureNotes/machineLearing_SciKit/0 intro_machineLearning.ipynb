{
 "cells": [
  {
   "cell_type": "markdown",
   "metadata": {},
   "source": [
    "Scikit-learn machine Learning\n",
    "\n",
    "https://scikit-learn.org/stable/"
   ]
  },
  {
   "cell_type": "markdown",
   "metadata": {},
   "source": [
    "#### Types of Machine Learning:\n",
    "\n",
    "> Classification:\n",
    "> \n",
    "Identifying which category an object belongs to.\n",
    "+ Applications: Spam detection, image recognition.\n",
    "+ Algorithms: Gradient boosting, nearest neighbors, random forest, logistic regression, and more...\n",
    "\n",
    "![](https://scikit-learn.org/stable/_images/sphx_glr_plot_classifier_comparison_001_carousel.png)"
   ]
  },
  {
   "cell_type": "markdown",
   "metadata": {},
   "source": [
    "> Regression\n",
    "> \n",
    "Predicting a continuous-valued attribute associated with an object.\n",
    "+ Applications: Drug response, Stock prices.\n",
    "+ Algorithms: Gradient boosting, nearest neighbors, random forest, ridge, \n",
    "\n",
    "![](https://scikit-learn.org/stable/_images/sphx_glr_plot_adaboost_regression_thumb.png)"
   ]
  },
  {
   "cell_type": "markdown",
   "metadata": {},
   "source": [
    "> Clustering\n",
    "> \n",
    "Automatic grouping of similar objects into sets.\n",
    "\n",
    "+ Applications: Customer segmentation, Grouping experiment outcomes, find malignus tumors, Recognise roadsigns\n",
    "+ Algorithms: k-Means, HDBSCAN, hierarchical clustering,\n",
    "\n",
    "![](https://scikit-learn.org/stable/_images/sphx_glr_plot_kmeans_digits_thumb.png)"
   ]
  },
  {
   "cell_type": "markdown",
   "metadata": {},
   "source": [
    "> Dimensional reduction\n",
    "> \n",
    "Reducing the number of random variables to consider.\n",
    "\n",
    "+ Applications: Visualization, Increased efficiency\n",
    "+ Algorithms: PCA, feature selection, non-negative matrix factorization\n",
    "\n",
    "![](https://scikit-learn.org/stable/_images/sphx_glr_plot_pca_iris_thumb.png)"
   ]
  },
  {
   "cell_type": "markdown",
   "metadata": {},
   "source": [
    "> Model selection\n",
    "> \n",
    "Comparing, validating and choosing parameters and models.\n",
    "\n",
    "+ Applications: Improved accuracy via parameter tuning\n",
    "+ Algorithms: grid search, cross validation, metrics, \n",
    "\n",
    "![](https://scikit-learn.org/stable/_images/sphx_glr_plot_multi_metric_evaluation_thumb.png)"
   ]
  },
  {
   "cell_type": "markdown",
   "metadata": {},
   "source": [
    "> Preprocessing\n",
    "> \n",
    "Feature extraction and normalization.\n",
    "\n",
    "+ Applications: Transforming input data such as text for use with machine learning algorithms.\n",
    "+ Algorithms: preprocessing, feature extraction\n",
    "\n",
    "![](https://scikit-learn.org/stable/_images/sphx_glr_plot_discretization_strategies_thumb.png)"
   ]
  }
 ],
 "metadata": {
  "kernelspec": {
   "display_name": "base",
   "language": "python",
   "name": "python3"
  },
  "language_info": {
   "codemirror_mode": {
    "name": "ipython",
    "version": 3
   },
   "file_extension": ".py",
   "mimetype": "text/x-python",
   "name": "python",
   "nbconvert_exporter": "python",
   "pygments_lexer": "ipython3",
   "version": "3.9.18"
  }
 },
 "nbformat": 4,
 "nbformat_minor": 2
}
