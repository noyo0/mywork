{
 "cells": [
  {
   "cell_type": "markdown",
   "metadata": {},
   "source": [
    "https://docs.python.org/3/library/sqlite3.html\n",
    "\n",
    "sqlite3 — DB-API 2.0 interface for SQLite databases¶"
   ]
  },
  {
   "cell_type": "code",
   "execution_count": 1,
   "metadata": {},
   "outputs": [],
   "source": [
    "import sqlite3"
   ]
  },
  {
   "cell_type": "markdown",
   "metadata": {},
   "source": [
    "### Cursor\n",
    "\n",
    "A cursor is essentially a pointer or a handle to a specific row within a result set. When a query is executed against a database, it may return a set of records (rows) that meet certain criteria. A cursor provides a way to iterate through these rows one at a time and perform operations on them.\n",
    "\n",
    "+ Implicit: The system automatically figures out what you want, like a helpful robot.\n",
    "\n",
    "+ Explicit: You give precise instructions for each step, like controlling a remote-control car yourself.\n",
    "\n",
    "### Database transaction\n",
    "\n",
    "A database transaction is a unit of work that involves one or more database operations, such as inserting, updating, or deleting records. \n",
    "\n",
    "> ACID Properties in Database Transactions:\n",
    "\n",
    "+ Atomicity (A): Treats a transaction as a single unit of work. All changes within the transaction are either fully applied to the database, or none are. If any part of the transaction fails, the entire transaction is rolled back, and the database remains unchanged.\n",
    "\n",
    "+ Consistency (C): Ensures that a transaction transitions the database from one consistent state to another. The database must meet all integrity constraints (e.g., foreign key relationships, uniqueness constraints) both before and after the transaction.\n",
    "\n",
    "+ Isolation (I): Ensures that operations within a transaction are isolated from other concurrent transactions. Even with simultaneous execution of multiple transactions, each transaction behaves as if it is the sole transaction in the system. This prevents interference between transactions.\n",
    "\n",
    "+ Durability (D): Guarantees that once a transaction is committed, its effects on the database persist, even in the face of system failures. Changes made by a committed transaction are permanent and survive events like system crashes or power outages."
   ]
  },
  {
   "cell_type": "markdown",
   "metadata": {},
   "source": [
    "### Compare SQLite with pandas"
   ]
  }
 ],
 "metadata": {
  "kernelspec": {
   "display_name": "base",
   "language": "python",
   "name": "python3"
  },
  "language_info": {
   "codemirror_mode": {
    "name": "ipython",
    "version": 3
   },
   "file_extension": ".py",
   "mimetype": "text/x-python",
   "name": "python",
   "nbconvert_exporter": "python",
   "pygments_lexer": "ipython3",
   "version": "3.9.18"
  }
 },
 "nbformat": 4,
 "nbformat_minor": 2
}
