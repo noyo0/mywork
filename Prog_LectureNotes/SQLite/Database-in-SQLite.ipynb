{
 "cells": [
  {
   "cell_type": "markdown",
   "metadata": {},
   "source": [
    "## Pandas comparison with SQL\n",
    "\n",
    "https://pandas.pydata.org/docs/getting_started/comparison/comparison_with_sql.html\n"
   ]
  },
  {
   "cell_type": "markdown",
   "metadata": {},
   "source": [
    "person=pd.read_csv(\"https://raw.githubusercontent.com/brianmcgatu/sqlite/main/person.csv\",index_col=0)\n",
    "person.head()"
   ]
  },
  {
   "cell_type": "markdown",
   "metadata": {},
   "source": [
    "car=pd.read_csv(\"https://raw.githubusercontent.com/brianmcgatu/sqlite/main/car.csv\",index_col=0)\n",
    "car.head()"
   ]
  },
  {
   "cell_type": "markdown",
   "metadata": {},
   "source": [
    "county=pd.read_csv(\"https://raw.githubusercontent.com/brianmcgatu/sqlite/main/county.csv\",index_col=0)\n",
    "county.head()"
   ]
  }
 ],
 "metadata": {
  "kernelspec": {
   "display_name": "base",
   "language": "python",
   "name": "python3"
  },
  "language_info": {
   "codemirror_mode": {
    "name": "ipython",
    "version": 3
   },
   "file_extension": ".py",
   "mimetype": "text/x-python",
   "name": "python",
   "nbconvert_exporter": "python",
   "pygments_lexer": "ipython3",
   "version": "3.9.18"
  }
 },
 "nbformat": 4,
 "nbformat_minor": 2
}
