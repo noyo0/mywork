{
 "cells": [
  {
   "cell_type": "markdown",
   "metadata": {},
   "source": [
    "### Exploring time series\n",
    "\n",
    "A time series is a sequence of data points collected at regular time intervals, typically ordered chronologically. It's used to analyze and understand how a variable changes over time, with characteristics like autocorrelation, seasonality, and trends. \n",
    "\n",
    "##### python dateime\n",
    "\n",
    "https://docs.python.org/3/library/datetime.html\n",
    "\n",
    "##### poisson random distributuion\n",
    "\n",
    "https://numpy.org/doc/stable/reference/random/generated/numpy.random.poisson.html\n",
    "\n",
    "\n"
   ]
  },
  {
   "cell_type": "markdown",
   "metadata": {},
   "source": [
    "#### Loading time series data\n",
    "\n",
    "Sample data from https://datahub.io/core/co2-ppm\n"
   ]
  },
  {
   "cell_type": "code",
   "execution_count": 1,
   "metadata": {},
   "outputs": [
    {
     "data": {
      "text/plain": [
       "0      10-apr-1996 14:00\n",
       "1      31-jul-1996 08:00\n",
       "2      31-jul-1996 09:00\n",
       "3      31-jul-1996 10:00\n",
       "4      31-jul-1996 11:00\n",
       "             ...        \n",
       "995    10-sep-1996 18:00\n",
       "996    10-sep-1996 19:00\n",
       "997    10-sep-1996 20:00\n",
       "998    10-sep-1996 21:00\n",
       "999    10-sep-1996 22:00\n",
       "Name: date, Length: 1000, dtype: object"
      ]
     },
     "execution_count": 1,
     "metadata": {},
     "output_type": "execute_result"
    }
   ],
   "source": [
    "import pandas as pd\n",
    "\n",
    "#df=pd.read_csv(\"https://datahub.io/core/co2-ppm/r/co2-mm-mlo.csv\")\n",
    "\n",
    "# skip junk rows ref: https://www.statology.org/pandas-skip-rows/\n",
    "# limit number of rows read in: https://stackoverflow.com/questions/23853553/python-pandas-how-to-read-only-first-n-rows-of-csv-files-in\n",
    "df=pd.read_csv(\"https://cli.fusio.net/cli/climate_data/webdata/hly4935.csv\",skiprows=23,low_memory=False,nrows=1000)\n",
    "df['date'] # results 'object' datatype\n",
    "#df.describe()"
   ]
  },
  {
   "cell_type": "code",
   "execution_count": 2,
   "metadata": {},
   "outputs": [
    {
     "ename": "KeyError",
     "evalue": "'Date'",
     "output_type": "error",
     "traceback": [
      "\u001b[1;31m---------------------------------------------------------------------------\u001b[0m",
      "\u001b[1;31mKeyError\u001b[0m                                  Traceback (most recent call last)",
      "File \u001b[1;32mc:\\Users\\norbe\\anaconda3\\lib\\site-packages\\pandas\\core\\indexes\\base.py:3653\u001b[0m, in \u001b[0;36mIndex.get_loc\u001b[1;34m(self, key)\u001b[0m\n\u001b[0;32m   3652\u001b[0m \u001b[38;5;28;01mtry\u001b[39;00m:\n\u001b[1;32m-> 3653\u001b[0m     \u001b[38;5;28;01mreturn\u001b[39;00m \u001b[38;5;28;43mself\u001b[39;49m\u001b[38;5;241;43m.\u001b[39;49m\u001b[43m_engine\u001b[49m\u001b[38;5;241;43m.\u001b[39;49m\u001b[43mget_loc\u001b[49m\u001b[43m(\u001b[49m\u001b[43mcasted_key\u001b[49m\u001b[43m)\u001b[49m\n\u001b[0;32m   3654\u001b[0m \u001b[38;5;28;01mexcept\u001b[39;00m \u001b[38;5;167;01mKeyError\u001b[39;00m \u001b[38;5;28;01mas\u001b[39;00m err:\n",
      "File \u001b[1;32mc:\\Users\\norbe\\anaconda3\\lib\\site-packages\\pandas\\_libs\\index.pyx:147\u001b[0m, in \u001b[0;36mpandas._libs.index.IndexEngine.get_loc\u001b[1;34m()\u001b[0m\n",
      "File \u001b[1;32mc:\\Users\\norbe\\anaconda3\\lib\\site-packages\\pandas\\_libs\\index.pyx:176\u001b[0m, in \u001b[0;36mpandas._libs.index.IndexEngine.get_loc\u001b[1;34m()\u001b[0m\n",
      "File \u001b[1;32mpandas\\_libs\\hashtable_class_helper.pxi:7080\u001b[0m, in \u001b[0;36mpandas._libs.hashtable.PyObjectHashTable.get_item\u001b[1;34m()\u001b[0m\n",
      "File \u001b[1;32mpandas\\_libs\\hashtable_class_helper.pxi:7088\u001b[0m, in \u001b[0;36mpandas._libs.hashtable.PyObjectHashTable.get_item\u001b[1;34m()\u001b[0m\n",
      "\u001b[1;31mKeyError\u001b[0m: 'Date'",
      "\nThe above exception was the direct cause of the following exception:\n",
      "\u001b[1;31mKeyError\u001b[0m                                  Traceback (most recent call last)",
      "Cell \u001b[1;32mIn[2], line 1\u001b[0m\n\u001b[1;32m----> 1\u001b[0m pd\u001b[38;5;241m.\u001b[39mto_datetime(\u001b[43mdf\u001b[49m\u001b[43m[\u001b[49m\u001b[38;5;124;43m'\u001b[39;49m\u001b[38;5;124;43mDate\u001b[39;49m\u001b[38;5;124;43m'\u001b[39;49m\u001b[43m]\u001b[49m)\n",
      "File \u001b[1;32mc:\\Users\\norbe\\anaconda3\\lib\\site-packages\\pandas\\core\\frame.py:3761\u001b[0m, in \u001b[0;36mDataFrame.__getitem__\u001b[1;34m(self, key)\u001b[0m\n\u001b[0;32m   3759\u001b[0m \u001b[38;5;28;01mif\u001b[39;00m \u001b[38;5;28mself\u001b[39m\u001b[38;5;241m.\u001b[39mcolumns\u001b[38;5;241m.\u001b[39mnlevels \u001b[38;5;241m>\u001b[39m \u001b[38;5;241m1\u001b[39m:\n\u001b[0;32m   3760\u001b[0m     \u001b[38;5;28;01mreturn\u001b[39;00m \u001b[38;5;28mself\u001b[39m\u001b[38;5;241m.\u001b[39m_getitem_multilevel(key)\n\u001b[1;32m-> 3761\u001b[0m indexer \u001b[38;5;241m=\u001b[39m \u001b[38;5;28;43mself\u001b[39;49m\u001b[38;5;241;43m.\u001b[39;49m\u001b[43mcolumns\u001b[49m\u001b[38;5;241;43m.\u001b[39;49m\u001b[43mget_loc\u001b[49m\u001b[43m(\u001b[49m\u001b[43mkey\u001b[49m\u001b[43m)\u001b[49m\n\u001b[0;32m   3762\u001b[0m \u001b[38;5;28;01mif\u001b[39;00m is_integer(indexer):\n\u001b[0;32m   3763\u001b[0m     indexer \u001b[38;5;241m=\u001b[39m [indexer]\n",
      "File \u001b[1;32mc:\\Users\\norbe\\anaconda3\\lib\\site-packages\\pandas\\core\\indexes\\base.py:3655\u001b[0m, in \u001b[0;36mIndex.get_loc\u001b[1;34m(self, key)\u001b[0m\n\u001b[0;32m   3653\u001b[0m     \u001b[38;5;28;01mreturn\u001b[39;00m \u001b[38;5;28mself\u001b[39m\u001b[38;5;241m.\u001b[39m_engine\u001b[38;5;241m.\u001b[39mget_loc(casted_key)\n\u001b[0;32m   3654\u001b[0m \u001b[38;5;28;01mexcept\u001b[39;00m \u001b[38;5;167;01mKeyError\u001b[39;00m \u001b[38;5;28;01mas\u001b[39;00m err:\n\u001b[1;32m-> 3655\u001b[0m     \u001b[38;5;28;01mraise\u001b[39;00m \u001b[38;5;167;01mKeyError\u001b[39;00m(key) \u001b[38;5;28;01mfrom\u001b[39;00m \u001b[38;5;21;01merr\u001b[39;00m\n\u001b[0;32m   3656\u001b[0m \u001b[38;5;28;01mexcept\u001b[39;00m \u001b[38;5;167;01mTypeError\u001b[39;00m:\n\u001b[0;32m   3657\u001b[0m     \u001b[38;5;66;03m# If we have a listlike key, _check_indexing_error will raise\u001b[39;00m\n\u001b[0;32m   3658\u001b[0m     \u001b[38;5;66;03m#  InvalidIndexError. Otherwise we fall through and re-raise\u001b[39;00m\n\u001b[0;32m   3659\u001b[0m     \u001b[38;5;66;03m#  the TypeError.\u001b[39;00m\n\u001b[0;32m   3660\u001b[0m     \u001b[38;5;28mself\u001b[39m\u001b[38;5;241m.\u001b[39m_check_indexing_error(key)\n",
      "\u001b[1;31mKeyError\u001b[0m: 'Date'"
     ]
    }
   ],
   "source": [
    "pd.to_datetime(df['Date']) # converts to 'datetime' datatype"
   ]
  },
  {
   "cell_type": "code",
   "execution_count": null,
   "metadata": {},
   "outputs": [],
   "source": [
    "#creating a new column and populate with dates in datetime format\n",
    "df['datetime']=pd.to_datetime(df['date'])\n",
    "#df\n"
   ]
  },
  {
   "cell_type": "code",
   "execution_count": null,
   "metadata": {},
   "outputs": [
    {
     "data": {
      "text/plain": [
       "0     1996-04-10 14:00:00\n",
       "1     1996-07-31 08:00:00\n",
       "2     1996-07-31 09:00:00\n",
       "3     1996-07-31 10:00:00\n",
       "4     1996-07-31 11:00:00\n",
       "              ...        \n",
       "995   1996-09-10 18:00:00\n",
       "996   1996-09-10 19:00:00\n",
       "997   1996-09-10 20:00:00\n",
       "998   1996-09-10 21:00:00\n",
       "999   1996-09-10 22:00:00\n",
       "Name: datetime, Length: 1000, dtype: datetime64[ns]"
      ]
     },
     "execution_count": 50,
     "metadata": {},
     "output_type": "execute_result"
    }
   ],
   "source": [
    "df['datetime']"
   ]
  },
  {
   "cell_type": "markdown",
   "metadata": {},
   "source": [
    "Pandas can only 'see' time series if the datatype is time serties"
   ]
  },
  {
   "cell_type": "code",
   "execution_count": null,
   "metadata": {},
   "outputs": [
    {
     "data": {
      "text/plain": [
       "<AxesSubplot:xlabel='year', ylabel='passengers'>"
      ]
     },
     "execution_count": 11,
     "metadata": {},
     "output_type": "execute_result"
    },
    {
     "data": {
      "image/png": "[encoded data removed]",
      "text/plain": [
       "<Figure size 640x480 with 1 Axes>"
      ]
     },
     "metadata": {},
     "output_type": "display_data"
    }
   ],
   "source": [
    "#visualise time series publish_display_data\n",
    "#https://seaborn.pydata.org/generated/seaborn.lineplot.html\n",
    "#SAMPLE from Seaborn documentation.\n",
    "import seaborn as sns\n",
    "flights = sns.load_dataset(\"flights\")\n",
    "flights.head()\n",
    "may_flights = flights.query(\"month == 'May'\")\n",
    "sns.lineplot(data=may_flights, x=\"year\", y=\"passengers\")"
   ]
  },
  {
   "cell_type": "code",
   "execution_count": null,
   "metadata": {},
   "outputs": [
    {
     "data": {
      "text/plain": [
       "Index(['date', 'ind', 'rain', 'ind.1', 'temp', 'ind.2', 'wetb', 'dewpt',\n",
       "       'vappr', 'rhum', 'msl', 'ind.3', 'wdsp', 'ind.4', 'wddir', 'ww', 'w',\n",
       "       'sun', 'vis', 'clht', 'clamt', 'datetime'],\n",
       "      dtype='object')"
      ]
     },
     "execution_count": 51,
     "metadata": {},
     "output_type": "execute_result"
    }
   ],
   "source": [
    "df.columns"
   ]
  },
  {
   "cell_type": "code",
   "execution_count": null,
   "metadata": {},
   "outputs": [
    {
     "data": {
      "text/plain": [
       "<AxesSubplot:xlabel='datetime', ylabel='temp'>"
      ]
     },
     "execution_count": 53,
     "metadata": {},
     "output_type": "execute_result"
    },
    {
     "data": {
      "image/png": "[encoded data removed]",
      "text/plain": [
       "<Figure size 640x480 with 1 Axes>"
      ]
     },
     "metadata": {},
     "output_type": "display_data"
    }
   ],
   "source": [
    "#Apply to the CO2 data.\n",
    "import seaborn as sns\n",
    "sns.lineplot(data=df[1:], x=\"datetime\", y=\"temp\") # with [1:] it reads from row one\n",
    "#sns.lineplot(data=df, x=\"datetime\", y=\"rain\")"
   ]
  },
  {
   "cell_type": "markdown",
   "metadata": {},
   "source": [
    "#### Simulating time series data with numpy and pandas (synthesize random data)"
   ]
  },
  {
   "cell_type": "code",
   "execution_count": null,
   "metadata": {},
   "outputs": [],
   "source": [
    "import pandas as pd\n",
    "import numpy as np"
   ]
  },
  {
   "cell_type": "code",
   "execution_count": null,
   "metadata": {},
   "outputs": [
    {
     "data": {
      "text/plain": [
       "DatetimeIndex(['2018-01-01 00:00:00', '2018-01-01 01:00:00',\n",
       "               '2018-01-01 02:00:00', '2018-01-01 03:00:00',\n",
       "               '2018-01-01 04:00:00', '2018-01-01 05:00:00',\n",
       "               '2018-01-01 06:00:00', '2018-01-01 07:00:00',\n",
       "               '2018-01-01 08:00:00', '2018-01-01 09:00:00',\n",
       "               '2018-01-01 10:00:00', '2018-01-01 11:00:00',\n",
       "               '2018-01-01 12:00:00', '2018-01-01 13:00:00',\n",
       "               '2018-01-01 14:00:00', '2018-01-01 15:00:00',\n",
       "               '2018-01-01 16:00:00', '2018-01-01 17:00:00',\n",
       "               '2018-01-01 18:00:00', '2018-01-01 19:00:00',\n",
       "               '2018-01-01 20:00:00', '2018-01-01 21:00:00',\n",
       "               '2018-01-01 22:00:00', '2018-01-01 23:00:00',\n",
       "               '2018-01-02 00:00:00', '2018-01-02 01:00:00',\n",
       "               '2018-01-02 02:00:00', '2018-01-02 03:00:00',\n",
       "               '2018-01-02 04:00:00', '2018-01-02 05:00:00',\n",
       "               '2018-01-02 06:00:00', '2018-01-02 07:00:00',\n",
       "               '2018-01-02 08:00:00', '2018-01-02 09:00:00',\n",
       "               '2018-01-02 10:00:00', '2018-01-02 11:00:00',\n",
       "               '2018-01-02 12:00:00', '2018-01-02 13:00:00',\n",
       "               '2018-01-02 14:00:00', '2018-01-02 15:00:00',\n",
       "               '2018-01-02 16:00:00', '2018-01-02 17:00:00',\n",
       "               '2018-01-02 18:00:00', '2018-01-02 19:00:00',\n",
       "               '2018-01-02 20:00:00', '2018-01-02 21:00:00',\n",
       "               '2018-01-02 22:00:00', '2018-01-02 23:00:00',\n",
       "               '2018-01-03 00:00:00', '2018-01-03 01:00:00',\n",
       "               '2018-01-03 02:00:00', '2018-01-03 03:00:00',\n",
       "               '2018-01-03 04:00:00', '2018-01-03 05:00:00',\n",
       "               '2018-01-03 06:00:00', '2018-01-03 07:00:00',\n",
       "               '2018-01-03 08:00:00', '2018-01-03 09:00:00',\n",
       "               '2018-01-03 10:00:00', '2018-01-03 11:00:00',\n",
       "               '2018-01-03 12:00:00', '2018-01-03 13:00:00',\n",
       "               '2018-01-03 14:00:00', '2018-01-03 15:00:00',\n",
       "               '2018-01-03 16:00:00', '2018-01-03 17:00:00',\n",
       "               '2018-01-03 18:00:00', '2018-01-03 19:00:00',\n",
       "               '2018-01-03 20:00:00', '2018-01-03 21:00:00',\n",
       "               '2018-01-03 22:00:00', '2018-01-03 23:00:00'],\n",
       "              dtype='datetime64[ns]', freq='H')"
      ]
     },
     "execution_count": 7,
     "metadata": {},
     "output_type": "execute_result"
    }
   ],
   "source": [
    "#for time series visualisation we need an index of dates or times as a starting point.\n",
    "#https://pandas.pydata.org/docs/reference/api/pandas.date_range.html\n",
    "\n",
    "#create index with dates from \"2018-01-01\" 72x dates, frequency is H (hours) \n",
    "idx = pd.date_range(\"2018-01-01\", periods=72, freq=\"H\")\n",
    "idx"
   ]
  },
  {
   "cell_type": "code",
   "execution_count": null,
   "metadata": {},
   "outputs": [],
   "source": [
    "rng=np.random.default_rng()"
   ]
  },
  {
   "cell_type": "code",
   "execution_count": null,
   "metadata": {},
   "outputs": [
    {
     "data": {
      "text/html": [
       "<div>\n",
       "<style scoped>\n",
       "    .dataframe tbody tr th:only-of-type {\n",
       "        vertical-align: middle;\n",
       "    }\n",
       "\n",
       "    .dataframe tbody tr th {\n",
       "        vertical-align: top;\n",
       "    }\n",
       "\n",
       "    .dataframe thead th {\n",
       "        text-align: right;\n",
       "    }\n",
       "</style>\n",
       "<table border=\"1\" class=\"dataframe\">\n",
       "  <thead>\n",
       "    <tr style=\"text-align: right;\">\n",
       "      <th></th>\n",
       "      <th>admissions</th>\n",
       "    </tr>\n",
       "  </thead>\n",
       "  <tbody>\n",
       "    <tr>\n",
       "      <th>2018-01-01 00:00:00</th>\n",
       "      <td>0.728680</td>\n",
       "    </tr>\n",
       "    <tr>\n",
       "      <th>2018-01-01 01:00:00</th>\n",
       "      <td>0.920355</td>\n",
       "    </tr>\n",
       "    <tr>\n",
       "      <th>2018-01-01 02:00:00</th>\n",
       "      <td>0.795507</td>\n",
       "    </tr>\n",
       "    <tr>\n",
       "      <th>2018-01-01 03:00:00</th>\n",
       "      <td>0.128939</td>\n",
       "    </tr>\n",
       "    <tr>\n",
       "      <th>2018-01-01 04:00:00</th>\n",
       "      <td>0.266536</td>\n",
       "    </tr>\n",
       "    <tr>\n",
       "      <th>...</th>\n",
       "      <td>...</td>\n",
       "    </tr>\n",
       "    <tr>\n",
       "      <th>2018-01-03 19:00:00</th>\n",
       "      <td>0.660792</td>\n",
       "    </tr>\n",
       "    <tr>\n",
       "      <th>2018-01-03 20:00:00</th>\n",
       "      <td>0.697022</td>\n",
       "    </tr>\n",
       "    <tr>\n",
       "      <th>2018-01-03 21:00:00</th>\n",
       "      <td>0.718992</td>\n",
       "    </tr>\n",
       "    <tr>\n",
       "      <th>2018-01-03 22:00:00</th>\n",
       "      <td>0.530523</td>\n",
       "    </tr>\n",
       "    <tr>\n",
       "      <th>2018-01-03 23:00:00</th>\n",
       "      <td>0.942893</td>\n",
       "    </tr>\n",
       "  </tbody>\n",
       "</table>\n",
       "<p>72 rows × 1 columns</p>\n",
       "</div>"
      ],
      "text/plain": [
       "                     admissions\n",
       "2018-01-01 00:00:00    0.728680\n",
       "2018-01-01 01:00:00    0.920355\n",
       "2018-01-01 02:00:00    0.795507\n",
       "2018-01-01 03:00:00    0.128939\n",
       "2018-01-01 04:00:00    0.266536\n",
       "...                         ...\n",
       "2018-01-03 19:00:00    0.660792\n",
       "2018-01-03 20:00:00    0.697022\n",
       "2018-01-03 21:00:00    0.718992\n",
       "2018-01-03 22:00:00    0.530523\n",
       "2018-01-03 23:00:00    0.942893\n",
       "\n",
       "[72 rows x 1 columns]"
      ]
     },
     "execution_count": 21,
     "metadata": {},
     "output_type": "execute_result"
    }
   ],
   "source": [
    "#create a random dataframe with idx as time series index and \n",
    "#a random number fromn random generator and length of idx\n",
    "ts=pd.DataFrame(data=rng.random(len(idx)),index=idx,columns=[\"admissions\"])\n",
    "ts"
   ]
  },
  {
   "cell_type": "markdown",
   "metadata": {},
   "source": [
    "#### Poisson probability distribution\n",
    "The Poisson distribution is a probability distribution that models the number of events occurring in a fixed interval of time or space, given a known average rate of occurrence. It is often used to describe rare events that happen independently, such as the number of customer arrivals at a store in an hour.\n",
    "\n",
    "NumPy: https://numpy.org/doc/stable/reference/random/generated/numpy.random.poisson.html\n",
    "\n",
    "random.poisson(lam=1.0, size=None)<br>\n",
    "**lam** is the average rate of events in a Poisson distribution.<br>\n",
    "**size** determines how many random values you want to generate.\n",
    "\n",
    "\n",
    "\n"
   ]
  },
  {
   "cell_type": "code",
   "execution_count": null,
   "metadata": {},
   "outputs": [
    {
     "data": {
      "text/html": [
       "<div>\n",
       "<style scoped>\n",
       "    .dataframe tbody tr th:only-of-type {\n",
       "        vertical-align: middle;\n",
       "    }\n",
       "\n",
       "    .dataframe tbody tr th {\n",
       "        vertical-align: top;\n",
       "    }\n",
       "\n",
       "    .dataframe thead th {\n",
       "        text-align: right;\n",
       "    }\n",
       "</style>\n",
       "<table border=\"1\" class=\"dataframe\">\n",
       "  <thead>\n",
       "    <tr style=\"text-align: right;\">\n",
       "      <th></th>\n",
       "      <th>admissions</th>\n",
       "    </tr>\n",
       "  </thead>\n",
       "  <tbody>\n",
       "    <tr>\n",
       "      <th>2018-01-01 00:00:00</th>\n",
       "      <td>3</td>\n",
       "    </tr>\n",
       "    <tr>\n",
       "      <th>2018-01-01 01:00:00</th>\n",
       "      <td>10</td>\n",
       "    </tr>\n",
       "    <tr>\n",
       "      <th>2018-01-01 02:00:00</th>\n",
       "      <td>3</td>\n",
       "    </tr>\n",
       "    <tr>\n",
       "      <th>2018-01-01 03:00:00</th>\n",
       "      <td>7</td>\n",
       "    </tr>\n",
       "    <tr>\n",
       "      <th>2018-01-01 04:00:00</th>\n",
       "      <td>9</td>\n",
       "    </tr>\n",
       "    <tr>\n",
       "      <th>...</th>\n",
       "      <td>...</td>\n",
       "    </tr>\n",
       "    <tr>\n",
       "      <th>2018-01-03 19:00:00</th>\n",
       "      <td>8</td>\n",
       "    </tr>\n",
       "    <tr>\n",
       "      <th>2018-01-03 20:00:00</th>\n",
       "      <td>16</td>\n",
       "    </tr>\n",
       "    <tr>\n",
       "      <th>2018-01-03 21:00:00</th>\n",
       "      <td>9</td>\n",
       "    </tr>\n",
       "    <tr>\n",
       "      <th>2018-01-03 22:00:00</th>\n",
       "      <td>16</td>\n",
       "    </tr>\n",
       "    <tr>\n",
       "      <th>2018-01-03 23:00:00</th>\n",
       "      <td>11</td>\n",
       "    </tr>\n",
       "  </tbody>\n",
       "</table>\n",
       "<p>72 rows × 1 columns</p>\n",
       "</div>"
      ],
      "text/plain": [
       "                     admissions\n",
       "2018-01-01 00:00:00           3\n",
       "2018-01-01 01:00:00          10\n",
       "2018-01-01 02:00:00           3\n",
       "2018-01-01 03:00:00           7\n",
       "2018-01-01 04:00:00           9\n",
       "...                         ...\n",
       "2018-01-03 19:00:00           8\n",
       "2018-01-03 20:00:00          16\n",
       "2018-01-03 21:00:00           9\n",
       "2018-01-03 22:00:00          16\n",
       "2018-01-03 23:00:00          11\n",
       "\n",
       "[72 rows x 1 columns]"
      ]
     },
     "execution_count": 32,
     "metadata": {},
     "output_type": "execute_result"
    }
   ],
   "source": [
    "#create a random dataframe using poisson distribution with idx as time series index and \n",
    "#a random number fromn random generator and length of idx (generates data for each index)\n",
    "ts=pd.DataFrame(data=rng.poisson(10,len(idx)),index=idx,columns=[\"admissions\"])\n",
    "ts"
   ]
  },
  {
   "cell_type": "markdown",
   "metadata": {},
   "source": [
    "### Accessing and Grouping time series data"
   ]
  },
  {
   "cell_type": "code",
   "execution_count": null,
   "metadata": {},
   "outputs": [
    {
     "data": {
      "text/plain": [
       "admissions    9.555556\n",
       "dtype: float64"
      ]
     },
     "execution_count": 35,
     "metadata": {},
     "output_type": "execute_result"
    }
   ],
   "source": [
    "ts.mean() # get mean of admissions"
   ]
  },
  {
   "cell_type": "code",
   "execution_count": null,
   "metadata": {},
   "outputs": [
    {
     "data": {
      "text/plain": [
       "admissions    7\n",
       "Name: 2018-01-01 03:00:00, dtype: int64"
      ]
     },
     "execution_count": 39,
     "metadata": {},
     "output_type": "execute_result"
    }
   ],
   "source": [
    "#get values with .loc\n",
    "ts.loc['2018-01-01 03:00:00'] #locate data at individuallabel"
   ]
  },
  {
   "cell_type": "code",
   "execution_count": null,
   "metadata": {},
   "outputs": [
    {
     "data": {
      "text/html": [
       "<div>\n",
       "<style scoped>\n",
       "    .dataframe tbody tr th:only-of-type {\n",
       "        vertical-align: middle;\n",
       "    }\n",
       "\n",
       "    .dataframe tbody tr th {\n",
       "        vertical-align: top;\n",
       "    }\n",
       "\n",
       "    .dataframe thead th {\n",
       "        text-align: right;\n",
       "    }\n",
       "</style>\n",
       "<table border=\"1\" class=\"dataframe\">\n",
       "  <thead>\n",
       "    <tr style=\"text-align: right;\">\n",
       "      <th></th>\n",
       "      <th>admissions</th>\n",
       "    </tr>\n",
       "  </thead>\n",
       "  <tbody>\n",
       "    <tr>\n",
       "      <th>2018-01-01 03:00:00</th>\n",
       "      <td>7</td>\n",
       "    </tr>\n",
       "    <tr>\n",
       "      <th>2018-01-01 04:00:00</th>\n",
       "      <td>9</td>\n",
       "    </tr>\n",
       "    <tr>\n",
       "      <th>2018-01-01 05:00:00</th>\n",
       "      <td>11</td>\n",
       "    </tr>\n",
       "    <tr>\n",
       "      <th>2018-01-01 06:00:00</th>\n",
       "      <td>12</td>\n",
       "    </tr>\n",
       "    <tr>\n",
       "      <th>2018-01-01 07:00:00</th>\n",
       "      <td>11</td>\n",
       "    </tr>\n",
       "    <tr>\n",
       "      <th>2018-01-01 08:00:00</th>\n",
       "      <td>5</td>\n",
       "    </tr>\n",
       "    <tr>\n",
       "      <th>2018-01-01 09:00:00</th>\n",
       "      <td>8</td>\n",
       "    </tr>\n",
       "    <tr>\n",
       "      <th>2018-01-01 10:00:00</th>\n",
       "      <td>6</td>\n",
       "    </tr>\n",
       "    <tr>\n",
       "      <th>2018-01-01 11:00:00</th>\n",
       "      <td>15</td>\n",
       "    </tr>\n",
       "  </tbody>\n",
       "</table>\n",
       "</div>"
      ],
      "text/plain": [
       "                     admissions\n",
       "2018-01-01 03:00:00           7\n",
       "2018-01-01 04:00:00           9\n",
       "2018-01-01 05:00:00          11\n",
       "2018-01-01 06:00:00          12\n",
       "2018-01-01 07:00:00          11\n",
       "2018-01-01 08:00:00           5\n",
       "2018-01-01 09:00:00           8\n",
       "2018-01-01 10:00:00           6\n",
       "2018-01-01 11:00:00          15"
      ]
     },
     "execution_count": 45,
     "metadata": {},
     "output_type": "execute_result"
    }
   ],
   "source": [
    "#get values with .loc\n",
    "ts.loc['2018-01-01 03:00:00':'2018-01-01 11:00:00'] #locate data at a range"
   ]
  },
  {
   "cell_type": "code",
   "execution_count": null,
   "metadata": {},
   "outputs": [
    {
     "data": {
      "text/plain": [
       "admissions    9.475\n",
       "dtype: float64"
      ]
     },
     "execution_count": 49,
     "metadata": {},
     "output_type": "execute_result"
    }
   ],
   "source": [
    "#get mean for a section of data\n",
    "ts.loc['2018-01-01 03:00:00':'2018-01-02 18:00:00'].mean()"
   ]
  },
  {
   "cell_type": "code",
   "execution_count": null,
   "metadata": {},
   "outputs": [
    {
     "data": {
      "text/plain": [
       "admissions    9.8\n",
       "dtype: float64"
      ]
     },
     "execution_count": 54,
     "metadata": {},
     "output_type": "execute_result"
    }
   ],
   "source": [
    "ts.iloc[5:15].mean() # get section of data with iloc(coordinate not label based)"
   ]
  },
  {
   "cell_type": "markdown",
   "metadata": {},
   "source": [
    "#### Aggregation\n",
    "\n",
    "##### Resampling:\n",
    "Resampling is a statistical technique that involves selecting, rearranging, or generating new data samples from an existing dataset. \n",
    "**Bootstrapping**: In bootstrapping, you repeatedly draw random samples (with replacement) from your original dataset to create multiple new datasets. "
   ]
  },
  {
   "cell_type": "code",
   "execution_count": null,
   "metadata": {},
   "outputs": [
    {
     "data": {
      "text/html": [
       "<div>\n",
       "<style scoped>\n",
       "    .dataframe tbody tr th:only-of-type {\n",
       "        vertical-align: middle;\n",
       "    }\n",
       "\n",
       "    .dataframe tbody tr th {\n",
       "        vertical-align: top;\n",
       "    }\n",
       "\n",
       "    .dataframe thead th {\n",
       "        text-align: right;\n",
       "    }\n",
       "</style>\n",
       "<table border=\"1\" class=\"dataframe\">\n",
       "  <thead>\n",
       "    <tr style=\"text-align: right;\">\n",
       "      <th></th>\n",
       "      <th>admissions</th>\n",
       "    </tr>\n",
       "  </thead>\n",
       "  <tbody>\n",
       "    <tr>\n",
       "      <th>2018-01-01</th>\n",
       "      <td>8.791667</td>\n",
       "    </tr>\n",
       "    <tr>\n",
       "      <th>2018-01-02</th>\n",
       "      <td>9.625000</td>\n",
       "    </tr>\n",
       "    <tr>\n",
       "      <th>2018-01-03</th>\n",
       "      <td>10.250000</td>\n",
       "    </tr>\n",
       "  </tbody>\n",
       "</table>\n",
       "</div>"
      ],
      "text/plain": [
       "            admissions\n",
       "2018-01-01    8.791667\n",
       "2018-01-02    9.625000\n",
       "2018-01-03   10.250000"
      ]
     },
     "execution_count": 70,
     "metadata": {},
     "output_type": "execute_result"
    }
   ],
   "source": [
    "ts.resample(\"D\").mean() #resample H frqency df to D (day) frequency\n"
   ]
  }
 ],
 "metadata": {
  "kernelspec": {
   "display_name": "base",
   "language": "python",
   "name": "python3"
  },
  "language_info": {
   "codemirror_mode": {
    "name": "ipython",
    "version": 3
   },
   "file_extension": ".py",
   "mimetype": "text/x-python",
   "name": "python",
   "nbconvert_exporter": "python",
   "pygments_lexer": "ipython3",
   "version": "3.9.18"
  }
 },
 "nbformat": 4,
 "nbformat_minor": 2
}
